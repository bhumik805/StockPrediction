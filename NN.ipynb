{
 "cells": [
  {
   "cell_type": "code",
   "execution_count": null,
   "metadata": {},
   "outputs": [],
   "source": [
    "import pandas as pd\n",
    "import pandas_ta as ta\n",
    "import numpy as np\n",
    "import matplotlib.pyplot as plt"
   ]
  },
  {
   "cell_type": "code",
   "execution_count": null,
   "metadata": {},
   "outputs": [],
   "source": [
    "from tensorflow import keras\n",
    "from tensorflow.keras import layers"
   ]
  },
  {
   "cell_type": "code",
   "execution_count": null,
   "metadata": {},
   "outputs": [],
   "source": [
    "df = pd.read_csv('./data2/AXISBANK.csv')\n",
    "# Calculate 'H-L' column\n",
    "df['H-L'] = df['High'] - df['Low']\n",
    "\n",
    "# Calculate 'O-C' column\n",
    "df['O-C'] = df['Close'] - df['Open']\n",
    "\n",
    "# Calculate '7 DAYS MA' column\n",
    "df['7 DAYS MA'] = df['Open'].rolling(window=7).mean()\n",
    "\n",
    "# Calculate '14 DAYS MA' column\n",
    "df['14 DAYS MA'] = df['Open'].rolling(window=14).mean()\n",
    "\n",
    "# Calculate '21 DAYS MA' column\n",
    "df['21 DAYS MA'] = df['Open'].rolling(window=21).mean()\n",
    "\n",
    "# Calculate '7 DAYS STD DEV' column\n",
    "df['7 DAYS STD DEV'] = df['Open'].rolling(window=7).std()\n",
    "\n",
    "# df['Date'] = pd.to_datetime(df['Date']) "
   ]
  },
  {
   "cell_type": "code",
   "execution_count": null,
   "metadata": {},
   "outputs": [],
   "source": [
    "df_new = df.iloc[20:5036,[3,4,5,6,7,8,9,10,11,15,16,17,18,19,20]]\n",
    "y_val = df.iloc[21:5037,4].dropna()\n",
    "from sklearn.preprocessing import StandardScaler\n",
    "\n",
    "scaler = StandardScaler()\n",
    "df_scaled = scaler.fit_transform(df_new)"
   ]
  },
  {
   "cell_type": "code",
   "execution_count": null,
   "metadata": {},
   "outputs": [],
   "source": [
    "model = keras.Sequential([\n",
    "    layers.Dense(128, activation='relu', input_dim=df_scaled.shape[1]),\n",
    "    layers.Dropout(0.2),  # Adding dropout for regularization\n",
    "    layers.Dense(64, activation='relu'),\n",
    "    layers.Dropout(0.2),\n",
    "    layers.Dense(32, activation='relu'),\n",
    "    layers.Dropout(0.2),\n",
    "    layers.Dense(16, activation='relu'),\n",
    "    layers.Dropout(0.2),\n",
    "    layers.Dense(1, activation='linear')  # Linear activation for regression\n",
    "])"
   ]
  },
  {
   "cell_type": "code",
   "execution_count": null,
   "metadata": {},
   "outputs": [],
   "source": [
    "model.compile(optimizer='adam', loss='mean_squared_error')\n",
    "model.fit(df_scaled, y_val, epochs=100, batch_size=32, verbose=1)\n"
   ]
  },
  {
   "cell_type": "code",
   "execution_count": null,
   "metadata": {},
   "outputs": [],
   "source": [
    "def predict_open(df,trueY):\n",
    "    model = keras.models.load_model(\"NN_model.h5\")\n",
    "    scaled_input = scaler.transform(df.iloc[-1:, [3, 4, 5, 6, 7, 8, 9, 10, 11, 15, 16, 17, 18, 19, 20]])\n",
    "    model.fit(scaled_input, np.array([trueY]), epochs=100, batch_size=32, verbose=1)\n",
    "    predicted_open = model.predict(scaled_input)\n",
    "    model.save(\"NN_model.h5\")\n",
    "    return predicted_open\n"
   ]
  },
  {
   "cell_type": "code",
   "execution_count": null,
   "metadata": {},
   "outputs": [],
   "source": [
    "predicted={}\n",
    "for i in range(5037,5305):\n",
    "    row = df.iloc[:i]\n",
    "    trueY = df.iloc[i+1,4]\n",
    "    # row_df = pd.DataFrame([row])\n",
    "    predicted[df.iloc[i,0]]=[trueY,predict_open(row,trueY)]\n"
   ]
  },
  {
   "cell_type": "code",
   "execution_count": null,
   "metadata": {},
   "outputs": [],
   "source": [
    "xvalues = list(map(lambda x:x.date(),predicted.keys()))\n",
    "trueys = list(map(lambda x:x[0],predicted.values()))\n",
    "predictedy = list(map(lambda x:x[1][0][0],predicted.values()))"
   ]
  },
  {
   "cell_type": "code",
   "execution_count": null,
   "metadata": {},
   "outputs": [],
   "source": [
    "import plotly.graph_objects as go\n",
    "trace1 = go.Scatter(x=xvalues, y=trueys, mode='lines', name='True Open')\n",
    "trace2 = go.Scatter(x=xvalues, y=predictedy, mode='lines', name='Predicted Open')\n",
    "layout = go.Layout(title='Two Line Graphs', xaxis=dict(title='X-axis'), yaxis=dict(title='Y-axis'))\n",
    "fig = go.Figure(data=[trace1, trace2], layout=layout)\n",
    "fig.show()\n",
    "fig.write_image(\"NN predicted price.png\")\n"
   ]
  }
 ],
 "metadata": {
  "kernelspec": {
   "display_name": "Python 3",
   "language": "python",
   "name": "python3"
  },
  "language_info": {
   "codemirror_mode": {
    "name": "ipython",
    "version": 3
   },
   "file_extension": ".py",
   "mimetype": "text/x-python",
   "name": "python",
   "nbconvert_exporter": "python",
   "pygments_lexer": "ipython3",
   "version": "3.10.12"
  }
 },
 "nbformat": 4,
 "nbformat_minor": 2
}
